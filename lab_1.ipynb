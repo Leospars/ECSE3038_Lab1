{
 "cells": [
  {
   "cell_type": "markdown",
   "metadata": {},
   "source": [
    "## ECSE3308 LAB 1\n",
    "\n",
    "### Requirements\n",
    "\n",
    "Students should create a repository on GitHub and push code to this repository. Students should also make changes to the code on their local machine and commit these changes to the repository.\n",
    "\n",
    "The code that the students are expected to write will not be specific to a particular topic. \n",
    "\n",
    "### Outline\n",
    "\n",
    "In the Python programming language, you are expected to design and implement a simple script that performs actions as defined be the requirements below. These actions or functions must be added to your code one after the other separated by a commit to the repository hosted on GitHub. \n",
    "\n",
    "Addition of any further functionality is up to you but the following functions must be included:"
   ]
  },
  {
   "cell_type": "markdown",
   "metadata": {},
   "source": [
    "1. Write a function, `parallel()`, that, when called, prints the effective resistance of a network of resistors connected in parallel. The function should be able to accept a single **list** as argument.\n",
    "    \n",
    "    Use the example provided below to test the functionality of your function. ie, copy the line below into your python script to call the function you wrote. \n",
    "    \n",
    "    ```python\n",
    "    parallel([330, 1000, 2200])\n",
    "    ```\n",
    "    \n",
    "    Your script should print the following:\n",
    "    \n",
    "    ```python\n",
    "    \"222.973 ohms\"\n",
    "    ```\n",
    "(5 marks)"
   ]
  },
  {
   "cell_type": "code",
   "execution_count": 9,
   "metadata": {},
   "outputs": [
    {
     "name": "stdout",
     "output_type": "stream",
     "text": [
      "Resistance: 222.97 Ohms\n"
     ]
    }
   ],
   "source": [
    "def parallel(resistors: list[int | float]) -> float:\n",
    "    sum = 0\n",
    "    for resistor in resistors :\n",
    "        sum = sum + (1/resistor)\n",
    "    resistance = 1/sum\n",
    "    return resistance\n",
    "\n",
    "resistance = parallel([330, 1000, 2200])\n",
    "print(f\"Resistance: {resistance:.2f} Ohms\")"
   ]
  },
  {
   "cell_type": "markdown",
   "metadata": {},
   "source": [
    "2. Write a function, `temperature_check()`, that accepts a single number, a patient's body temperature, and a single character, the unit of temperature. The function should output whether the patient is hypothermic, hyperthermic or has normal body temperature based on the number passed to the function. \n",
    "    \n",
    "    The second value passed as argument should tell the function whether the condition should calculated in degrees celcius or degrees fahrenheit.\n",
    "    \n",
    "    An appropriate message should be written to the screen with the result. You’re free to use what ever reasonable temperature limits you feel will adequately act as boundaries for these conditions.\n",
    "    \n",
    "    eg. \n",
    "    \n",
    "    ```python\n",
    "    > temperature_check(14, \"C\")\n",
    "    > \"the patient is hypothermic\"\n",
    "    \n",
    "    > temperature_check(37, \"C\")\n",
    "    > \"the patient's temperature is normal\"\n",
    "    \n",
    "    > temperature_check(37, \"F\")\n",
    "    > \"the patient is hypothermic\"\n",
    "    ```\n",
    "    \n",
    "    (5 marks)"
   ]
  },
  {
   "cell_type": "code",
   "execution_count": null,
   "metadata": {},
   "outputs": [],
   "source": [
    "def temperature_check(temp: float, degrees: str) -> str:\n",
    "    if degrees == \"F\":\n",
    "        if temp < 95:\n",
    "            return \"the patient is hypothermic\"\n",
    "        elif temp > 104:\n",
    "            return \"the patient is hyperthermic\"\n",
    "        else:\n",
    "            return \"the patient's temperature is normal\"\n",
    "    elif degrees == \"C\":\n",
    "        if temp < 35:\n",
    "            return \"the patient is hypothermic\"\n",
    "        elif temp > 40:\n",
    "            return \"the patient is hyperthermic\"\n",
    "        else:\n",
    "            return \"the patient's temperature is normal\"\n",
    "    else:\n",
    "        return \"Invalid input degrees must be either F or C\"\n",
    "\n",
    "temperature_check(14, \"C\")\n",
    "temperature_check(37, \"C\")\n",
    "temperature_check(37, \"F\")"
   ]
  }
 ],
 "metadata": {
  "kernelspec": {
   "display_name": "Python 3",
   "language": "python",
   "name": "python3"
  },
  "language_info": {
   "codemirror_mode": {
    "name": "ipython",
    "version": 3
   },
   "file_extension": ".py",
   "mimetype": "text/x-python",
   "name": "python",
   "nbconvert_exporter": "python",
   "pygments_lexer": "ipython3",
   "version": "3.11.9"
  }
 },
 "nbformat": 4,
 "nbformat_minor": 2
}
