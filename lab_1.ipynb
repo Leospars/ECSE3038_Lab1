{
 "cells": [
  {
   "cell_type": "markdown",
   "metadata": {},
   "source": [
    "## ECSE3308 LAB 1\n",
    "\n",
    "### Requirements\n",
    "\n",
    "Students should create a repository on GitHub and push code to this repository. Students should also make changes to the code on their local machine and commit these changes to the repository.\n",
    "\n",
    "The code that the students are expected to write will not be specific to a particular topic. \n",
    "\n",
    "### Outline\n",
    "\n",
    "In the Python programming language, you are expected to design and implement a simple script that performs actions as defined be the requirements below. These actions or functions must be added to your code one after the other separated by a commit to the repository hosted on GitHub. \n",
    "\n",
    "Addition of any further functionality is up to you but the following functions must be included:"
   ]
  },
  {
   "cell_type": "markdown",
   "metadata": {},
   "source": [
    "1. Write a function, `parallel()`, that, when called, prints the effective resistance of a network of resistors connected in parallel. The function should be able to accept a single **list** as argument.\n",
    "    \n",
    "    Use the example provided below to test the functionality of your function. ie, copy the line below into your python script to call the function you wrote. \n",
    "    \n",
    "    ```python\n",
    "    parallel([330, 1000, 2200])\n",
    "    ```\n",
    "    \n",
    "    Your script should print the following:\n",
    "    \n",
    "    ```python\n",
    "    \"222.973 ohms\"\n",
    "    ```\n",
    "(5 marks)"
   ]
  },
  {
   "cell_type": "code",
   "execution_count": 9,
   "metadata": {},
   "outputs": [
    {
     "name": "stdout",
     "output_type": "stream",
     "text": [
      "Resistance: 222.97 Ohms\n"
     ]
    }
   ],
   "source": [
    "def parallel(resistors: list[int | float]) -> float:\n",
    "    sum = 0\n",
    "    for resistor in resistors :\n",
    "        sum = sum + (1/resistor)\n",
    "    resistance = 1/sum\n",
    "    return resistance\n",
    "\n",
    "resistance = parallel([330, 1000, 2200])\n",
    "print(f\"Resistance: {resistance:.2f} Ohms\")"
   ]
  }
 ],
 "metadata": {
  "kernelspec": {
   "display_name": "Python 3",
   "language": "python",
   "name": "python3"
  },
  "language_info": {
   "codemirror_mode": {
    "name": "ipython",
    "version": 3
   },
   "file_extension": ".py",
   "mimetype": "text/x-python",
   "name": "python",
   "nbconvert_exporter": "python",
   "pygments_lexer": "ipython3",
   "version": "3.11.9"
  }
 },
 "nbformat": 4,
 "nbformat_minor": 2
}
